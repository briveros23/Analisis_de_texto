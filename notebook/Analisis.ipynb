{
 "cells": [
  {
   "cell_type": "code",
   "execution_count": 1,
   "metadata": {
    "id": "64ln4jhG85KR"
   },
   "outputs": [
    {
     "ename": "ModuleNotFoundError",
     "evalue": "No module named 'matplotlib'",
     "output_type": "error",
     "traceback": [
      "\u001b[1;31m---------------------------------------------------------------------------\u001b[0m",
      "\u001b[1;31mModuleNotFoundError\u001b[0m                       Traceback (most recent call last)",
      "Cell \u001b[1;32mIn[1], line 5\u001b[0m\n\u001b[0;32m      2\u001b[0m \u001b[38;5;28;01mfrom\u001b[39;00m \u001b[38;5;21;01msklearn\u001b[39;00m\u001b[38;5;21;01m.\u001b[39;00m\u001b[38;5;21;01mcluster\u001b[39;00m \u001b[38;5;28;01mimport\u001b[39;00m KMeans\n\u001b[0;32m      4\u001b[0m \u001b[38;5;28;01mimport\u001b[39;00m \u001b[38;5;21;01mnumpy\u001b[39;00m \u001b[38;5;28;01mas\u001b[39;00m \u001b[38;5;21;01mnp\u001b[39;00m\n\u001b[1;32m----> 5\u001b[0m \u001b[38;5;28;01mimport\u001b[39;00m \u001b[38;5;21;01mmatplotlib\u001b[39;00m\u001b[38;5;21;01m.\u001b[39;00m\u001b[38;5;21;01mpyplot\u001b[39;00m \u001b[38;5;28;01mas\u001b[39;00m \u001b[38;5;21;01mplt\u001b[39;00m\n\u001b[0;32m      6\u001b[0m \u001b[38;5;28;01mimport\u001b[39;00m \u001b[38;5;21;01mseaborn\u001b[39;00m \u001b[38;5;28;01mas\u001b[39;00m \u001b[38;5;21;01msns\u001b[39;00m\n\u001b[0;32m      7\u001b[0m \u001b[38;5;28;01mfrom\u001b[39;00m \u001b[38;5;21;01msentence_transformers\u001b[39;00m \u001b[38;5;28;01mimport\u001b[39;00m SentenceTransformer\n",
      "\u001b[1;31mModuleNotFoundError\u001b[0m: No module named 'matplotlib'"
     ]
    }
   ],
   "source": [
    "from sklearn.decomposition import PCA\n",
    "from sklearn.cluster import KMeans\n",
    "\n",
    "import numpy as np\n",
    "import matplotlib.pyplot as plt\n",
    "import seaborn as sns\n",
    "from sentence_transformers import SentenceTransformer\n",
    "\n",
    "sns.set_theme()"
   ]
  },
  {
   "cell_type": "code",
   "execution_count": null,
   "metadata": {
    "id": "k755EiAc_f0Q"
   },
   "outputs": [],
   "source": [
    "terms = [\n",
    "    'bueno',       \n",
    "    'bien',        \n",
    "    'aceptable',   \n",
    "    'adecuado',    \n",
    "    'virtuoso',    \n",
    "    'justo',       \n",
    "    'está bien',   \n",
    "    'genial',      \n",
    "    'increíble',   \n",
    "    'excepcional', \n",
    "    'significativo', \n",
    "    'mejor',       \n",
    "    'ok',           \n",
    "    'bien',         \n",
    "    'malo',         \n",
    "    'horrible',     \n",
    "    'peor',         \n",
    "    'terrible',     \n",
    "    'horrible',\n",
    "]\n"
   ]
  },
  {
   "cell_type": "code",
   "execution_count": null,
   "metadata": {
    "id": "nPtnV2ceFt8B"
   },
   "outputs": [],
   "source": [
    "class sentence_similarity():\n",
    "\n",
    "  def __init__(self, model, sentencias, n_componentes=2):\n",
    "    self.model = model\n",
    "    self.pca=PCA(n_components=n_componentes)\n",
    "    self.embeddings = self.model.encode(sentencias)\n",
    "    self.pca = self.pca.fit(self.embeddings)\n",
    "    self.component = self.pca.fit_transform(self.embeddings)\n",
    "\n",
    "  def varianza_explicada(self):\n",
    "    return self.pca.explained_variance_\n",
    "\n",
    "  def componentes(self):\n",
    "    return self.component\n",
    "\n",
    "  def k_means(self,clusters):\n",
    "    return KMeans(n_clusters=clusters).fit(self.component)\n",
    "\n",
    "class graficos():\n",
    "\n",
    "  def planos_factoriales(self):\n",
    "    pass\n",
    "\n",
    "  def planos_kmeans(self):\n",
    "    pass\n",
    "  \n",
    "  def worcloud(self):\n",
    "    pass\n",
    "\n",
    "\n",
    "class limpieza_regex():\n",
    "  def __init__(self,sentencias):\n",
    "    self.datos=sentencias\n",
    "\n",
    "  def limpieza_componentes(self):\n",
    "    #elimina numeros\n",
    "\n",
    "    # elimina caracteres extraños\n",
    "\n",
    "    #eliminar espacios dobles\n",
    "\n",
    "    pass \n",
    "\n",
    "  def stop_words():\n",
    "    \n",
    "\n",
    "\n",
    "\n"
   ]
  },
  {
   "cell_type": "code",
   "execution_count": null,
   "metadata": {
    "colab": {
     "base_uri": "https://localhost:8080/"
    },
    "id": "TiVCuj4lZtJd",
    "outputId": "b9f58f16-61e4-444f-bc38-f6a1c9a2072b"
   },
   "outputs": [
    {
     "data": {
      "text/plain": [
       "array([[ 3.7494905 , -2.2132826 , -0.1643261 , -0.3805743 ],\n",
       "       [ 6.220342  , -3.4253685 , -0.6411597 , -1.2827947 ],\n",
       "       [ 1.9704607 ,  1.9698063 ,  0.5390244 ,  0.04644234],\n",
       "       [ 1.768573  ,  3.1530187 ,  1.4846843 ,  1.5600691 ],\n",
       "       [ 0.01688309,  2.1217403 , -0.01583855,  2.4510436 ],\n",
       "       [ 3.6733449 , -0.4909285 ,  0.58783674, -1.4102707 ],\n",
       "       [ 5.2500305 , -1.9660449 , -1.1663163 , -0.7918496 ],\n",
       "       [ 0.47052917,  2.77278   ,  0.4252021 ,  2.7935534 ],\n",
       "       [-1.5312409 ,  0.19315939, -7.487824  ,  1.4925495 ],\n",
       "       [-1.94183   ,  8.38754   , -0.85627156, -6.530071  ],\n",
       "       [ 1.5908741 ,  4.9567986 ,  1.5266852 ,  4.261724  ],\n",
       "       [ 1.211852  , -0.1892257 ,  1.4594605 ,  0.73906344],\n",
       "       [ 3.0275495 , -1.3942894 ,  0.8572375 , -0.2636167 ],\n",
       "       [ 6.220342  , -3.4253702 , -0.6411606 , -1.2827951 ],\n",
       "       [-4.265207  , -2.113771  ,  2.7977018 , -1.211612  ],\n",
       "       [-7.3267026 , -1.9544387 , -1.0109322 ,  0.46748582],\n",
       "       [-5.347252  , -2.4812226 ,  5.0458746 , -0.69055384],\n",
       "       [-7.4313354 , -1.9464613 , -1.7289463 , -0.43527952],\n",
       "       [-7.326703  , -1.9544399 , -1.0109321 ,  0.467486  ]],\n",
       "      dtype=float32)"
      ]
     },
     "execution_count": 65,
     "metadata": {},
     "output_type": "execute_result"
    }
   ],
   "source": [
    "\n",
    "\n",
    "\n",
    "\n",
    "model = SentenceTransformer('hackathon-pln-es/paraphrase-spanish-distilroberta')\n",
    "modelos = sentence_similarity(model,terms,4)\n",
    "\n",
    "modelos.varianza_explicada()\n",
    "modelos.componentes()"
   ]
  },
  {
   "cell_type": "code",
   "execution_count": null,
   "metadata": {
    "colab": {
     "base_uri": "https://localhost:8080/"
    },
    "id": "pWo0G6-eiY-P",
    "outputId": "05f95120-3abe-4a69-8654-0f8a5e065bfc"
   },
   "outputs": [
    {
     "data": {
      "text/plain": [
       "array([0, 0, 2, 2, 2, 0, 0, 2, 2, 3, 2, 2, 0, 0, 1, 1, 1, 1, 1],\n",
       "      dtype=int32)"
      ]
     },
     "execution_count": 66,
     "metadata": {},
     "output_type": "execute_result"
    }
   ],
   "source": [
    "cluster = modelos.k_means(4)\n",
    "cluster.labels_"
   ]
  },
  {
   "cell_type": "code",
   "execution_count": null,
   "metadata": {
    "colab": {
     "base_uri": "https://localhost:8080/"
    },
    "id": "76U7xRrGlCLq",
    "outputId": "46bf8ef2-c56f-4e47-fd76-48d5eaaf85af"
   },
   "outputs": [
    {
     "data": {
      "text/plain": [
       "array([ 4.6901836 , -2.1525474 , -0.19464807, -0.9019835 ], dtype=float32)"
      ]
     },
     "execution_count": 68,
     "metadata": {},
     "output_type": "execute_result"
    }
   ],
   "source": [
    "cluster.cluster_centers_[0]"
   ]
  },
  {
   "cell_type": "code",
   "execution_count": null,
   "metadata": {
    "colab": {
     "base_uri": "https://localhost:8080/"
    },
    "id": "wRPpOC2Kymvm",
    "outputId": "72205b80-7f51-47f1-8d86-665347e47eb3"
   },
   "outputs": [
    {
     "name": "stdout",
     "output_type": "stream",
     "text": [
      "Texto: Este producto es increíblemente bueno y maravilloso.\n",
      "Polaridad: 0.85, Sentimiento: Positivo\n",
      "\n",
      "Texto: La experiencia fue muy mala y desagradable.\n",
      "Polaridad: -0.78, Sentimiento: Negativo\n",
      "\n",
      "Texto: No estoy convencido de que sea genial, pero tampoco es terrible.\n",
      "Polaridad: 0.65, Sentimiento: Positivo\n",
      "\n"
     ]
    }
   ],
   "source": [
    "from textblob import TextBlob\n",
    "from textblob.exceptions import NotTranslated\n",
    "\n",
    "textos = [\n",
    "    \"Este producto es increíblemente bueno y maravilloso.\",\n",
    "    \"La experiencia fue muy mala y desagradable.\",\n",
    "    \"No estoy convencido de que sea genial, pero tampoco es terrible.\"\n",
    "]\n",
    "\n",
    "for texto in textos:\n",
    "    blob = TextBlob(texto)\n",
    "    try:\n",
    "        polaridad = blob.translate(from_lang='es', to='en').sentiment.polarity\n",
    "    except NotTranslated:\n",
    "        polaridad = blob.sentiment.polarity\n",
    "\n",
    "    sentimiento = \"Positivo\" if polaridad > 0 else \"Negativo\" if polaridad < 0 else \"Neutro\"\n",
    "    print(f\"Texto: {texto}\")\n",
    "    print(f\"Polaridad: {polaridad:.2f}, Sentimiento: {sentimiento}\")\n",
    "    print()\n"
   ]
  },
  {
   "cell_type": "code",
   "execution_count": null,
   "metadata": {
    "id": "oaTqcaekYVBW"
   },
   "outputs": [],
   "source": [
    "def plot_palabras (self,sentencias):\n",
    "    coordenadas = self.__entrenamiento_PCA(self.__enconde(sentencias))\n",
    "    x = coordenadas[:,0]\n",
    "    y = coordenadas[:,1]\n",
    "    fig, ax = plt.subplots(figsize=(15, 6))\n",
    "    ax.scatter(x, y, c='b')\n",
    "\n",
    "    for i, term in enumerate(terms):\n",
    "        ax.annotate(\n",
    "            term,\n",
    "            (x[i], y[i]),\n",
    "            xytext=(4, 2),\n",
    "            textcoords='offset points'\n",
    "        )\n",
    "\n",
    "    plt.title('word embeddings')\n",
    "    plt.xlabel('x')\n",
    "    plt.ylabel('y')\n",
    "    plt.show()"
   ]
  }
 ],
 "metadata": {
  "colab": {
   "provenance": []
  },
  "kernelspec": {
   "display_name": "dydde",
   "language": "python",
   "name": "python3"
  },
  "language_info": {
   "codemirror_mode": {
    "name": "ipython",
    "version": 3
   },
   "file_extension": ".py",
   "mimetype": "text/x-python",
   "name": "python",
   "nbconvert_exporter": "python",
   "pygments_lexer": "ipython3",
   "version": "3.12.8"
  }
 },
 "nbformat": 4,
 "nbformat_minor": 0
}
